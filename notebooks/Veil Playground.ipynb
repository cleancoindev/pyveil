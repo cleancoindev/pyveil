{
 "cells": [
  {
   "cell_type": "code",
   "execution_count": null,
   "metadata": {},
   "outputs": [],
   "source": [
    "import os\n",
    "\n",
    "from veil.veil_client import VeilClient\n",
    "from veil.constants import NetworkId, NETWORK_INFO\n",
    "\n",
    "NETWORK_ID = NetworkId.KOVAN\n",
    "PRIVATE_KEY = os.environ.get(\"PRIVATE_KEY\")\n",
    "WEB3_RPC_URL = os.environ.get(\"WEB3_RPC_URL\")\n",
    "\n",
    "client = VeilClient(\n",
    "    network_id=NETWORK_ID.value,\n",
    "    web3_rpc_url=WEB3_RPC_URL,\n",
    "    private_key=PRIVATE_KEY,\n",
    ")\n",
    "\n",
    "MY_ADDRESS = client.account_address\n",
    "\n",
    "print(\n",
    "    \"NETWORK:\",  NETWORK_ID,\n",
    "    \"\\nRPC_URL\", WEB3_RPC_URL,\n",
    "    \"\\nADDRESS IN USE:\", MY_ADDRESS)"
   ]
  },
  {
   "cell_type": "code",
   "execution_count": null,
   "metadata": {},
   "outputs": [],
   "source": [
    "markets = client.get_markets(channel=\"btc\", status=\"resolved\")\n",
    "print(len(markets))\n",
    "markets[0]"
   ]
  }
 ],
 "metadata": {
  "kernelspec": {
   "display_name": "Python 3",
   "language": "python",
   "name": "python3"
  },
  "language_info": {
   "codemirror_mode": {
    "name": "ipython",
    "version": 3
   },
   "file_extension": ".py",
   "mimetype": "text/x-python",
   "name": "python",
   "nbconvert_exporter": "python",
   "pygments_lexer": "ipython3",
   "version": "3.7.2"
  }
 },
 "nbformat": 4,
 "nbformat_minor": 2
}
