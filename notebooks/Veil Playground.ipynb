{
 "cells": [
  {
   "cell_type": "code",
   "execution_count": null,
   "metadata": {},
   "outputs": [],
   "source": [
    "import os\n",
    "\n",
    "from veil.veil_client import *\n",
    "from veil.constants import NetworkId, NETWORK_INFO\n",
    "from utils.logutils import setup_logger\n",
    "import logging\n",
    "\n",
    "LOGGER = setup_logger(\"VeilPlayground\")\n",
    "LOGGER = setup_logger(\"veil.veil_client\", log_level=logging.DEBUG)\n",
    "\n",
    "NETWORK_ID = NetworkId.KOVAN\n",
    "PRIVATE_KEY = os.environ.get(\"PRIVATE_KEY\")\n",
    "INFURA_API_KEY = os.environ.get(\"INFURA_API_KEY\")\n",
    "WEB3_RPC_URL = \"https://{}.infura.io/{}\".format(NETWORK_ID.name.lower(), INFURA_API_KEY)\n",
    "\n",
    "client = VeilClient(\n",
    "    network_id=NETWORK_ID.value,\n",
    "    web3_rpc_url=WEB3_RPC_URL,\n",
    "    private_key=PRIVATE_KEY,\n",
    ")\n",
    "\n",
    "MY_ADDRESS = client.account_address\n",
    "\n",
    "print(\n",
    "    \"NETWORK:\",  NETWORK_ID,\n",
    "    \"\\nRPC_URL\", WEB3_RPC_URL,\n",
    "    \"\\nADDRESS IN USE:\", MY_ADDRESS,\n",
    "    \"\\nETH BALANCE:\", client.get_eth_balance()\n",
    ")\n",
    "\n",
    "print(client)\n",
    "print(\"Signing into veil...\")\n",
    "print(client.authenticate())"
   ]
  },
  {
   "cell_type": "code",
   "execution_count": null,
   "metadata": {},
   "outputs": [],
   "source": [
    "client.get_eth_balance()"
   ]
  },
  {
   "cell_type": "code",
   "execution_count": null,
   "metadata": {},
   "outputs": [],
   "source": [
    "markets = client.get_markets(\n",
    "#     channel=\"btc\", \n",
    "    status=\"open\",\n",
    "#     page=0\n",
    "#     raw_json=True,\n",
    ")\n",
    "print(len(markets))\n",
    "markets"
   ]
  },
  {
   "cell_type": "code",
   "execution_count": null,
   "metadata": {},
   "outputs": [],
   "source": [
    "from pprint import pprint\n",
    "print(set([m.type for m in markets]))\n",
    "print(set([m.channel for m in markets]))\n",
    "print(set([m.status for m in markets]))\n",
    "print([m.metadata for m in markets])\n",
    "print([(m.type.value, m.num_ticks) for m in markets])"
   ]
  },
  {
   "cell_type": "code",
   "execution_count": null,
   "metadata": {},
   "outputs": [],
   "source": [
    "market = client.get_market(\n",
    "    \"bnb-usd-2019-03-16-5x\",\n",
    "#     raw_json=True\n",
    ")\n",
    "market"
   ]
  },
  {
   "cell_type": "code",
   "execution_count": null,
   "metadata": {},
   "outputs": [],
   "source": [
    "min_max = [x / TEN_18 for x in  [market.min_price, market.max_price]]\n",
    "price_range = (min_max[1] - min_max[0])\n",
    "min_max, price_range, (15.08 - min_max[0]) / price_range"
   ]
  },
  {
   "cell_type": "code",
   "execution_count": null,
   "metadata": {},
   "outputs": [],
   "source": [
    "from veil.veil_client import TokenType, OrderSide\n",
    "\n",
    "bids_long = client.get_bids(\n",
    "    market_slug=market.slug,\n",
    "    token_type=TokenType.LONG,\n",
    ")\n",
    "bids_short = client.get_bids(\n",
    "    market_slug=market.slug,\n",
    "    token_type=TokenType.SHORT,\n",
    ")\n",
    "asks_long = client.get_asks(\n",
    "    market_slug=market.slug,\n",
    "    token_type=TokenType.LONG,\n",
    ")\n",
    "asks_short = client.get_asks(\n",
    "    market_slug=market.slug,\n",
    "    token_type=TokenType.SHORT,\n",
    ")\n",
    "bids_long, bids_short, asks_long, asks_short"
   ]
  },
  {
   "cell_type": "code",
   "execution_count": null,
   "metadata": {},
   "outputs": [],
   "source": [
    "order_fills = client.get_order_fills(\n",
    "    market_slug=market.slug,\n",
    "    token_type=TokenType.LONG,\n",
    "#     raw_json=True\n",
    ")\n",
    "order_fills"
   ]
  },
  {
   "cell_type": "code",
   "execution_count": null,
   "metadata": {},
   "outputs": [],
   "source": [
    "balances = client.get_balances(market.slug)\n",
    "balances"
   ]
  },
  {
   "cell_type": "code",
   "execution_count": null,
   "metadata": {},
   "outputs": [],
   "source": [
    "order_res = client.post_order(\n",
    "    market=market,\n",
    "    token_type=\"short\",\n",
    "    side=\"buy\",\n",
    "    amount=0.005,\n",
    "    price=0.4,\n",
    ")\n",
    "order_res"
   ]
  },
  {
   "cell_type": "code",
   "execution_count": null,
   "metadata": {},
   "outputs": [],
   "source": [
    "from veil.veil_client import OrderStatus\n",
    "\n",
    "my_orders = client.get_orders(\n",
    "    market.slug,\n",
    "#     order_status=None\n",
    "#     raw_json=True\n",
    ")\n",
    "my_orders"
   ]
  },
  {
   "cell_type": "code",
   "execution_count": null,
   "metadata": {},
   "outputs": [],
   "source": [
    "for order in my_orders:\n",
    "    if order.status == OrderStatus.OPEN:\n",
    "        cancel_res = client.cancel_order(order.uid)\n",
    "        print(cancel_res)"
   ]
  },
  {
   "cell_type": "code",
   "execution_count": null,
   "metadata": {},
   "outputs": [],
   "source": [
    "feed_data = client.get_feed_data(market.index)\n",
    "print(feed_data)\n",
    "feed_data.entries.head()"
   ]
  }
 ],
 "metadata": {
  "kernelspec": {
   "display_name": "Python 3",
   "language": "python",
   "name": "python3"
  },
  "language_info": {
   "codemirror_mode": {
    "name": "ipython",
    "version": 3
   },
   "file_extension": ".py",
   "mimetype": "text/x-python",
   "name": "python",
   "nbconvert_exporter": "python",
   "pygments_lexer": "ipython3",
   "version": "3.7.2"
  }
 },
 "nbformat": 4,
 "nbformat_minor": 2
}
