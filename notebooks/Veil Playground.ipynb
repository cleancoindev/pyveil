{
 "cells": [
  {
   "cell_type": "code",
   "execution_count": null,
   "metadata": {},
   "outputs": [],
   "source": [
    "import os\n",
    "\n",
    "from veil.veil_client import VeilClient\n",
    "from veil.constants import NetworkId, NETWORK_INFO\n",
    "from utils.logutils import setup_logger\n",
    "\n",
    "LOGGER = setup_logger(\"VeilPlayground\")\n",
    "\n",
    "NETWORK_ID = NetworkId.KOVAN\n",
    "PRIVATE_KEY = os.environ.get(\"PRIVATE_KEY\")\n",
    "INFURA_API_KEY = os.environ.get(\"INFURA_API_KEY\")\n",
    "WEB3_RPC_URL = \"https://{}.infura.io/{}\".format(NETWORK_ID.name.lower(), INFURA_API_KEY)\n",
    "\n",
    "client = VeilClient(\n",
    "    network_id=NETWORK_ID.value,\n",
    "    web3_rpc_url=WEB3_RPC_URL,\n",
    "    private_key=PRIVATE_KEY,\n",
    ")\n",
    "\n",
    "MY_ADDRESS = client.account_address\n",
    "\n",
    "print(\n",
    "    \"NETWORK:\",  NETWORK_ID,\n",
    "    \"\\nRPC_URL\", WEB3_RPC_URL,\n",
    "    \"\\nADDRESS IN USE:\", MY_ADDRESS,\n",
    "    \"\\nETH BALANCE:\", client.get_eth_balance()\n",
    ")\n",
    "\n",
    "print(client)\n",
    "print(\"Signing into veil...\")\n",
    "print(client.authenticate())"
   ]
  },
  {
   "cell_type": "code",
   "execution_count": null,
   "metadata": {},
   "outputs": [],
   "source": [
    "client.get_eth_balance()"
   ]
  },
  {
   "cell_type": "code",
   "execution_count": null,
   "metadata": {},
   "outputs": [],
   "source": [
    "markets = client.get_markets(\n",
    "#     channel=\"btc\", \n",
    "    status=\"open\",\n",
    "#     page=0\n",
    ")\n",
    "print(len(markets))\n",
    "markets[0]"
   ]
  },
  {
   "cell_type": "code",
   "execution_count": null,
   "metadata": {},
   "outputs": [],
   "source": [
    "print(set([x[\"type\"] for x in markets]))\n",
    "print(set([x[\"channel\"] for x in markets]))"
   ]
  },
  {
   "cell_type": "code",
   "execution_count": null,
   "metadata": {},
   "outputs": [],
   "source": [
    "market = client.get_market(markets[0][\"slug\"])\n",
    "market"
   ]
  },
  {
   "cell_type": "code",
   "execution_count": null,
   "metadata": {},
   "outputs": [],
   "source": [
    "from veil.veil_client import TokenType, OrderSide\n",
    "\n",
    "bids_long = client.get_bids(\n",
    "    market_slug=market[\"slug\"],\n",
    "    token_type=TokenType.LONG,\n",
    ")\n",
    "bids_short = client.get_bids(\n",
    "    market_slug=market[\"slug\"],\n",
    "    token_type=TokenType.SHORT,\n",
    ")\n",
    "asks_long = client.get_asks(\n",
    "    market_slug=market[\"slug\"],\n",
    "    token_type=TokenType.LONG,\n",
    ")\n",
    "asks_short = client.get_asks(\n",
    "    market_slug=market[\"slug\"],\n",
    "    token_type=TokenType.SHORT,\n",
    ")\n",
    "bids_long, bids_short, asks_long, asks_short"
   ]
  },
  {
   "cell_type": "code",
   "execution_count": null,
   "metadata": {},
   "outputs": [],
   "source": [
    "client.get_order_fills(\n",
    "    market_slug=market[\"slug\"],\n",
    "    token_type=TokenType.SHORT,\n",
    ")"
   ]
  },
  {
   "cell_type": "code",
   "execution_count": null,
   "metadata": {},
   "outputs": [],
   "source": [
    "from veil.veil_client import OrderStatus\n",
    "\n",
    "client.get_my_orders(\n",
    "    market[\"slug\"],\n",
    "#     order_status=None\n",
    ")"
   ]
  },
  {
   "cell_type": "code",
   "execution_count": null,
   "metadata": {},
   "outputs": [],
   "source": []
  }
 ],
 "metadata": {
  "kernelspec": {
   "display_name": "Python 3",
   "language": "python",
   "name": "python3"
  },
  "language_info": {
   "codemirror_mode": {
    "name": "ipython",
    "version": 3
   },
   "file_extension": ".py",
   "mimetype": "text/x-python",
   "name": "python",
   "nbconvert_exporter": "python",
   "pygments_lexer": "ipython3",
   "version": "3.7.2"
  }
 },
 "nbformat": 4,
 "nbformat_minor": 2
}
