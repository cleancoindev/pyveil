{
 "cells": [
  {
   "cell_type": "code",
   "execution_count": null,
   "metadata": {},
   "outputs": [],
   "source": [
    "import os\n",
    "\n",
    "from veil.veil_client import *\n",
    "from veil.constants import NetworkId, NETWORK_INFO\n",
    "from utils.logutils import setup_logger\n",
    "import logging\n",
    "\n",
    "LOGGER = setup_logger(\"VeilPlayground\")\n",
    "LOGGER = setup_logger(\"veil.veil_client\", log_level=logging.INFO)\n",
    "\n",
    "NETWORK_ID = NetworkId.KOVAN\n",
    "PRIVATE_KEY = os.environ.get(\"PRIVATE_KEY\")\n",
    "INFURA_API_KEY = os.environ.get(\"INFURA_API_KEY\")\n",
    "WEB3_RPC_URL = \"https://{}.infura.io/{}\".format(NETWORK_ID.name.lower(), INFURA_API_KEY)\n",
    "\n",
    "client = VeilClient(\n",
    "    network_id=NETWORK_ID.value,\n",
    "    web3_rpc_url=WEB3_RPC_URL,\n",
    "    private_key=PRIVATE_KEY,\n",
    ")\n",
    "\n",
    "MY_ADDRESS = client.account_address\n",
    "\n",
    "print(\n",
    "    \"NETWORK:\",  NETWORK_ID,\n",
    "    \"\\nRPC_URL\", WEB3_RPC_URL,\n",
    "    \"\\nADDRESS IN USE:\", MY_ADDRESS,\n",
    "    \"\\nETH BALANCE:\", client.get_eth_balance()\n",
    ")\n",
    "\n",
    "print(client)\n",
    "print(\"Signing into veil...\")\n",
    "print(client.authenticate())"
   ]
  },
  {
   "cell_type": "code",
   "execution_count": null,
   "metadata": {},
   "outputs": [],
   "source": [
    "client.get_eth_balance()"
   ]
  },
  {
   "cell_type": "code",
   "execution_count": null,
   "metadata": {},
   "outputs": [],
   "source": [
    "markets = client.get_markets(\n",
    "#     channel=\"btc\", \n",
    "    status=\"open\",\n",
    "#     page=0\n",
    "#     raw_json=True,\n",
    ")\n",
    "print(len(markets))\n",
    "markets[0]"
   ]
  },
  {
   "cell_type": "code",
   "execution_count": null,
   "metadata": {},
   "outputs": [],
   "source": [
    "from pprint import pprint\n",
    "print(set([m.type for m in markets]))\n",
    "print(set([m.channel for m in markets]))\n",
    "print([(m.type.value, m.num_ticks) for m in markets])"
   ]
  },
  {
   "cell_type": "code",
   "execution_count": null,
   "metadata": {},
   "outputs": [],
   "source": [
    "market = client.get_market(\n",
    "    \"veil-market-creation\",\n",
    "#     raw_json=True\n",
    ")\n",
    "market"
   ]
  },
  {
   "cell_type": "code",
   "execution_count": null,
   "metadata": {},
   "outputs": [],
   "source": [
    "from veil.veil_client import TokenType, OrderSide\n",
    "\n",
    "bids_long = client.get_bids(\n",
    "    market_slug=market.slug,\n",
    "    token_type=TokenType.LONG,\n",
    ")\n",
    "bids_short = client.get_bids(\n",
    "    market_slug=market.slug,\n",
    "    token_type=TokenType.SHORT,\n",
    ")\n",
    "asks_long = client.get_asks(\n",
    "    market_slug=market.slug,\n",
    "    token_type=TokenType.LONG,\n",
    ")\n",
    "asks_short = client.get_asks(\n",
    "    market_slug=market.slug,\n",
    "    token_type=TokenType.SHORT,\n",
    ")\n",
    "bids_long, bids_short, asks_long, asks_short"
   ]
  },
  {
   "cell_type": "code",
   "execution_count": null,
   "metadata": {},
   "outputs": [],
   "source": [
    "print(eth_price_from_veil_price('5000', market.num_ticks))\n",
    "print(amount_from_veil_shares('5000749962502', market.num_ticks))"
   ]
  },
  {
   "cell_type": "code",
   "execution_count": null,
   "metadata": {},
   "outputs": [],
   "source": [
    "order_fills = client.get_order_fills(\n",
    "    market_slug=market.slug,\n",
    "    token_type=TokenType.SHORT,\n",
    "#     raw_json=True\n",
    ")\n",
    "order_fills"
   ]
  },
  {
   "cell_type": "code",
   "execution_count": null,
   "metadata": {},
   "outputs": [],
   "source": [
    "from veil.veil_client import OrderStatus\n",
    "\n",
    "client.get_my_orders(\n",
    "    market.slug,\n",
    "#     order_status=None\n",
    "#     raw_json=True\n",
    ")"
   ]
  },
  {
   "cell_type": "code",
   "execution_count": null,
   "metadata": {},
   "outputs": [],
   "source": [
    "from pprint import pprint\n",
    "quote = client.get_quote(\n",
    "    market=market,\n",
    "    token_type=\"long\",\n",
    "    side=\"buy\",\n",
    "    amount=0.01,\n",
    "    price=0.1,\n",
    ")\n",
    "zx_order = quote.zero_ex_order\n",
    "assert quote.order_hash == zx_order.hash\n",
    "quote"
   ]
  },
  {
   "cell_type": "code",
   "execution_count": null,
   "metadata": {},
   "outputs": [],
   "source": [
    "zx_order.signature = client.sign_hash_0x_compat(zx_order.hash)\n",
    "zx_order"
   ]
  },
  {
   "cell_type": "code",
   "execution_count": null,
   "metadata": {},
   "outputs": [],
   "source": []
  }
 ],
 "metadata": {
  "kernelspec": {
   "display_name": "Python 3",
   "language": "python",
   "name": "python3"
  },
  "language_info": {
   "codemirror_mode": {
    "name": "ipython",
    "version": 3
   },
   "file_extension": ".py",
   "mimetype": "text/x-python",
   "name": "python",
   "nbconvert_exporter": "python",
   "pygments_lexer": "ipython3",
   "version": "3.7.2"
  }
 },
 "nbformat": 4,
 "nbformat_minor": 2
}
